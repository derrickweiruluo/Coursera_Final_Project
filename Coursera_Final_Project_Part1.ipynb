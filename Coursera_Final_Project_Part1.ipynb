{
 "cells": [
  {
   "cell_type": "markdown",
   "metadata": {},
   "source": [
    "#  Capstone Project - The Battle of Neighborhoods (Part 1 of 2)\n",
    "------------------------------------------------------------------------------------------------"
   ]
  },
  {
   "cell_type": "markdown",
   "metadata": {},
   "source": [
    "###  Scenario"
   ]
  },
  {
   "cell_type": "markdown",
   "metadata": {},
   "source": [
    "Restaurants are a notoriously difficult business to own or operate. Not only is it a relatively capital and employee-intensive business, restaurants are also highly regulated, low margin. New York City is a high-competitve market, where there are many restaurant closed and opened everyday, for every cuisine style. Even on the same neighourhood, there will be customers that are willing to wait for 30 minutes to get into a restaurant while another restaurant may not even have its table fully occupied.\n",
    "\n",
    "One of the key element of success of opening a restaurant is the selection of location.It comes down to a combination of several factors: restaurant style, target customers, rent and nearby competitors. In New York City, one of the most high-populated and diverse city in the world, the opportunity for the running a restaurant is enormous. Selecting location is the first step that require a lot of research and most likely irreversable afterward.  Thus, a good location will pave the path toward success. In this project, data science will provide valuable insights regarding market trends and evolving consumer lifestyles so that restaurateurs can better address and meet public demand."
   ]
  },
  {
   "cell_type": "markdown",
   "metadata": {},
   "source": [
    "###  Business Problem"
   ]
  },
  {
   "cell_type": "markdown",
   "metadata": {},
   "source": [
    "Everyone has there own taste of restaurant environment, someone like romantic, someone like the simple settings while other may prefer a quite place to dine alone. Those preferences varied from customer to customer.\n",
    "\n",
    "My client, the dominant hot pot restaurant chain in China is looking to expand operation in North America. To start with, expand the first location in New York City (NYC)."
   ]
  },
  {
   "cell_type": "markdown",
   "metadata": {},
   "source": [
    "###   Problem Statement"
   ]
  },
  {
   "cell_type": "markdown",
   "metadata": {},
   "source": [
    "Recommend to the client the choice of neighbourhood to expand the chained restaurant. Data science tools will be used to discuss the following two problems: 1. NYC population and demographic characteristics. 2. Direct competitors in the locations."
   ]
  },
  {
   "cell_type": "markdown",
   "metadata": {},
   "source": [
    "###   Data Source\n",
    "\n",
    "Data source 1: Wikipedia:  https://en.wikipedia.org/wiki/New_York_City; https://en.wikipedia.org/wiki/Demographics_of_New_York_City\n",
    "\n",
    "Web scraping techniques will be used to get population density data and demographic information from Wikipedia. From preliminary findings, the population density ranked from Manhattan, Brooklyn, Bronx, Queens and Staten Island. While on the other hand, Queens has the highest asian population density, followed by Manhattan, Brooklyn, Staten Island and Bronx. In this senario, asian customers are our target customer.\n",
    "\n",
    "Data source 2: Geocoding.\n",
    "\n",
    "Geographical coordinates will be obtained using Python Geocoder which address/neighbourhood of interest will be represented in latitude and longtitude. \n",
    "\n",
    "\n",
    "Date Source 3: Foursquare API. \n",
    "\n",
    "These data source will be used to explore various neighbourhoods in NYC and other hot pot restaurants venues within the neighbourhood. \n",
    "\n",
    "Finally, data extracted from the above data sources will be merged into one dataframe which will be further analyzed."
   ]
  }
 ],
 "metadata": {
  "kernelspec": {
   "display_name": "Python 3",
   "language": "python",
   "name": "python3"
  },
  "language_info": {
   "codemirror_mode": {
    "name": "ipython",
    "version": 3
   },
   "file_extension": ".py",
   "mimetype": "text/x-python",
   "name": "python",
   "nbconvert_exporter": "python",
   "pygments_lexer": "ipython3",
   "version": "3.7.6"
  }
 },
 "nbformat": 4,
 "nbformat_minor": 4
}
